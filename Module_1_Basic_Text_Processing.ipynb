{
  "nbformat": 4,
  "nbformat_minor": 0,
  "metadata": {
    "colab": {
      "name": "Module 1 - Basic Text Processing.ipynb",
      "version": "0.3.2",
      "provenance": [],
      "collapsed_sections": [],
      "include_colab_link": true
    },
    "kernelspec": {
      "name": "python3",
      "display_name": "Python 3"
    }
  },
  "cells": [
    {
      "cell_type": "markdown",
      "metadata": {
        "id": "view-in-github",
        "colab_type": "text"
      },
      "source": [
        "<a href=\"https://colab.research.google.com/github/sakshi5oct/Representation-Learning-for-NLP/blob/master/Module_1_Basic_Text_Processing.ipynb\" target=\"_parent\"><img src=\"https://colab.research.google.com/assets/colab-badge.svg\" alt=\"Open In Colab\"/></a>"
      ]
    },
    {
      "cell_type": "markdown",
      "metadata": {
        "id": "-X3UfJWCMfk6",
        "colab_type": "text"
      },
      "source": [
        "## The Zen of Python\n",
        "\n"
      ]
    },
    {
      "cell_type": "code",
      "metadata": {
        "id": "vlbHo_YJaYeT",
        "colab_type": "code",
        "outputId": "ce90841c-59fd-4ef9-b967-9b6257d09b81",
        "colab": {
          "base_uri": "https://localhost:8080/",
          "height": 374
        }
      },
      "source": [
        "import this"
      ],
      "execution_count": 0,
      "outputs": [
        {
          "output_type": "stream",
          "text": [
            "The Zen of Python, by Tim Peters\n",
            "\n",
            "Beautiful is better than ugly.\n",
            "Explicit is better than implicit.\n",
            "Simple is better than complex.\n",
            "Complex is better than complicated.\n",
            "Flat is better than nested.\n",
            "Sparse is better than dense.\n",
            "Readability counts.\n",
            "Special cases aren't special enough to break the rules.\n",
            "Although practicality beats purity.\n",
            "Errors should never pass silently.\n",
            "Unless explicitly silenced.\n",
            "In the face of ambiguity, refuse the temptation to guess.\n",
            "There should be one-- and preferably only one --obvious way to do it.\n",
            "Although that way may not be obvious at first unless you're Dutch.\n",
            "Now is better than never.\n",
            "Although never is often better than *right* now.\n",
            "If the implementation is hard to explain, it's a bad idea.\n",
            "If the implementation is easy to explain, it may be a good idea.\n",
            "Namespaces are one honking great idea -- let's do more of those!\n"
          ],
          "name": "stdout"
        }
      ]
    },
    {
      "cell_type": "code",
      "metadata": {
        "id": "F5STXePVo7Ot",
        "colab_type": "code",
        "outputId": "c7a8229c-abfe-4e41-b00b-bbff019b6002",
        "colab": {
          "base_uri": "https://localhost:8080/",
          "height": 51
        }
      },
      "source": [
        "!pip install <abc> "
      ],
      "execution_count": 0,
      "outputs": [
        {
          "output_type": "stream",
          "text": [
            "/bin/bash: -c: line 0: syntax error near unexpected token `newline'\n",
            "/bin/bash: -c: line 0: `pip install <abc> '\n"
          ],
          "name": "stdout"
        }
      ]
    },
    {
      "cell_type": "markdown",
      "metadata": {
        "id": "VgtOszjrafqg",
        "colab_type": "text"
      },
      "source": [
        "## Grammar for Strings:\n",
        "\n",
        "stringliteral   ::=  [stringprefix](shortstring | longstring)\n",
        "\n",
        "stringprefix    ::=  \"r\" | \"u\" | \"ur\" | \"R\" | \"U\" | \"UR\" | \"Ur\" | \"uR\"\n",
        "                     | \"b\" | \"B\" | \"br\" | \"Br\" | \"bR\" | \"BR\"\n",
        "                     \n",
        "shortstring     ::=  \"'\" shortstringitem* \"'\" | '\"' shortstringitem* '\"'\n",
        "\n",
        "longstring      ::=  \"'''\" longstringitem* \"'''\" | '\"\"\"' longstringitem* '\"\"\"'\n",
        "\n",
        "shortstringitem ::=  shortstringchar | escapeseq\n",
        "\n",
        "longstringitem  ::=  longstringchar | escapeseq\n",
        "\n",
        "shortstringchar ::=  <any source character except \"\\\" or newline or the quote>\n",
        "\n",
        "longstringchar  ::=  <any source character except \"\\\">\n",
        "\n",
        "escapeseq       ::=  \"\\\" <any ASCII character>"
      ]
    },
    {
      "cell_type": "markdown",
      "metadata": {
        "id": "h9OW42JTM6Er",
        "colab_type": "text"
      },
      "source": [
        "## String Types"
      ]
    },
    {
      "cell_type": "code",
      "metadata": {
        "id": "VG-rMPRmM0_J",
        "colab_type": "code",
        "outputId": "6e5be875-1e56-4554-a777-17723b8d09ac",
        "colab": {
          "base_uri": "https://localhost:8080/",
          "height": 68
        }
      },
      "source": [
        "new_string = \"This is a String\"  # storing a string\n",
        "\n",
        "print('ID:', id(new_string))  # shows the object identifier (address)\n",
        "print('Type:', type(new_string))  # shows the object type\n",
        "print('Value:', new_string)  # shows the object value"
      ],
      "execution_count": 0,
      "outputs": [
        {
          "output_type": "stream",
          "text": [
            "ID: 140505049032576\n",
            "Type: <class 'str'>\n",
            "Value: This is a String\n"
          ],
          "name": "stdout"
        }
      ]
    },
    {
      "cell_type": "markdown",
      "metadata": {
        "id": "Q0ID3EtkNIMd",
        "colab_type": "text"
      },
      "source": [
        "## Simple String"
      ]
    },
    {
      "cell_type": "code",
      "metadata": {
        "id": "Qmx5-MvANIhn",
        "colab_type": "code",
        "outputId": "34c7006e-aa08-47dd-8f29-72c1ec0ba8b2",
        "colab": {
          "base_uri": "https://localhost:8080/",
          "height": 34
        }
      },
      "source": [
        "simple_string = 'Hello!' + \" I'm a simple string\"\n",
        "print(simple_string)"
      ],
      "execution_count": 0,
      "outputs": [
        {
          "output_type": "stream",
          "text": [
            "Hello! I'm a simple string\n"
          ],
          "name": "stdout"
        }
      ]
    },
    {
      "cell_type": "markdown",
      "metadata": {
        "id": "lqR_2TBtNwpn",
        "colab_type": "text"
      },
      "source": [
        "## Multi-line String\n"
      ]
    },
    {
      "cell_type": "code",
      "metadata": {
        "id": "0TWZ5-vzNxS0",
        "colab_type": "code",
        "outputId": "57cd9578-561d-4dee-a076-73c72e36270c",
        "colab": {
          "base_uri": "https://localhost:8080/",
          "height": 34
        }
      },
      "source": [
        "# Note the \\n (newline) escape character automatically created\n",
        "multi_line_string = \"\"\"Hello I'm\n",
        "a multi-line\n",
        "string!\"\"\"\n",
        "\n",
        "multi_line_string"
      ],
      "execution_count": 0,
      "outputs": [
        {
          "output_type": "execute_result",
          "data": {
            "text/plain": [
              "\"Hello I'm\\na multi-line\\nstring!\""
            ]
          },
          "metadata": {
            "tags": []
          },
          "execution_count": 4
        }
      ]
    },
    {
      "cell_type": "code",
      "metadata": {
        "id": "fPg3GZyCOCio",
        "colab_type": "code",
        "outputId": "5e84bf16-cca4-407e-9d9d-2d2ad3d226c6",
        "colab": {
          "base_uri": "https://localhost:8080/",
          "height": 68
        }
      },
      "source": [
        "print(multi_line_string)"
      ],
      "execution_count": 0,
      "outputs": [
        {
          "output_type": "stream",
          "text": [
            "Hello I'm\n",
            "a multi-line\n",
            "string!\n"
          ],
          "name": "stdout"
        }
      ]
    },
    {
      "cell_type": "code",
      "metadata": {
        "id": "vMtdNGGJN0rK",
        "colab_type": "code",
        "outputId": "863c2038-0126-475a-f5b7-a4b9172fd23f",
        "colab": {
          "base_uri": "https://localhost:8080/",
          "height": 34
        }
      },
      "source": [
        "another_multi_line_string = \"\"\"Hello I'm \\ a multi-line \\ string!\"\"\"\n",
        "\n",
        "\n",
        "another_multi_line_string"
      ],
      "execution_count": 0,
      "outputs": [
        {
          "output_type": "execute_result",
          "data": {
            "text/plain": [
              "\"Hello I'm \\\\ a multi-line \\\\ string!\""
            ]
          },
          "metadata": {
            "tags": []
          },
          "execution_count": 6
        }
      ]
    },
    {
      "cell_type": "code",
      "metadata": {
        "id": "jm2uTQvzOG_w",
        "colab_type": "code",
        "outputId": "bdbba00e-d4b9-46ff-ced5-43ec3d11ae31",
        "colab": {
          "base_uri": "https://localhost:8080/",
          "height": 34
        }
      },
      "source": [
        "print(another_multi_line_string)"
      ],
      "execution_count": 0,
      "outputs": [
        {
          "output_type": "stream",
          "text": [
            "Hello I'm \\ a multi-line \\ string!\n"
          ],
          "name": "stdout"
        }
      ]
    },
    {
      "cell_type": "markdown",
      "metadata": {
        "id": "U2jJ0XVUOdxi",
        "colab_type": "text"
      },
      "source": [
        "## Escape sequences"
      ]
    },
    {
      "cell_type": "code",
      "metadata": {
        "id": "T-CteZ8BOe1b",
        "colab_type": "code",
        "outputId": "22d84d3d-071f-4de6-bb2a-68897356e345",
        "colab": {
          "base_uri": "https://localhost:8080/",
          "height": 51
        }
      },
      "source": [
        "# Normal string with escape sequences leading to a wrong file path!\n",
        "escaped_string = \"C:\\the_folder\\new_dir\\file.txt\"\n",
        "print(escaped_string)  # will cause errors if we try to open a file here"
      ],
      "execution_count": 0,
      "outputs": [
        {
          "output_type": "stream",
          "text": [
            "C:\the_folder\n",
            "ew_dir\file.txt\n"
          ],
          "name": "stdout"
        }
      ]
    },
    {
      "cell_type": "code",
      "metadata": {
        "id": "_PHTVM6FOiBO",
        "colab_type": "code",
        "outputId": "ee5f6812-60eb-4bbe-a967-31bb69f56440",
        "colab": {
          "base_uri": "https://localhost:8080/",
          "height": 34
        }
      },
      "source": [
        "# raw string keeping the backslashes in its normal form\n",
        "raw_string = r'C:\\the_folder\\new_dir\\file.txt'\n",
        "print(raw_string)"
      ],
      "execution_count": 0,
      "outputs": [
        {
          "output_type": "stream",
          "text": [
            "C:\\the_folder\\new_dir\\file.txt\n"
          ],
          "name": "stdout"
        }
      ]
    },
    {
      "cell_type": "markdown",
      "metadata": {
        "id": "5n6bYsGMQJoW",
        "colab_type": "text"
      },
      "source": [
        "## Unicode literals"
      ]
    },
    {
      "cell_type": "code",
      "metadata": {
        "id": "LUgUas3LQKaC",
        "colab_type": "code",
        "outputId": "32e8b4c9-b9e8-49e0-a329-a92d99b59943",
        "colab": {
          "base_uri": "https://localhost:8080/",
          "height": 34
        }
      },
      "source": [
        "# unicode string literals\n",
        "string_with_unicode = 'H\\u00e8llo!'\n",
        "print(string_with_unicode)"
      ],
      "execution_count": 0,
      "outputs": [
        {
          "output_type": "stream",
          "text": [
            "Hèllo!\n"
          ],
          "name": "stdout"
        }
      ]
    },
    {
      "cell_type": "code",
      "metadata": {
        "id": "dspBtLrBQMsp",
        "colab_type": "code",
        "outputId": "a24e8d3e-0b5c-4f37-a6ec-68c81864ce2f",
        "colab": {
          "base_uri": "https://localhost:8080/",
          "height": 34
        }
      },
      "source": [
        "more_unicode = 'I love Pizza 🍕!  Shall we book a cab 🚕 to get pizza?'\n",
        "print(more_unicode)"
      ],
      "execution_count": 0,
      "outputs": [
        {
          "output_type": "stream",
          "text": [
            "I love Pizza 🍕!  Shall we book a cab 🚕 to get pizza?\n"
          ],
          "name": "stdout"
        }
      ]
    },
    {
      "cell_type": "markdown",
      "metadata": {
        "id": "ZFqCyBi_QXXn",
        "colab_type": "text"
      },
      "source": [
        "#### Your Turn: How can we reverse the above string?"
      ]
    },
    {
      "cell_type": "code",
      "metadata": {
        "id": "O9B5tJC_QZSO",
        "colab_type": "code",
        "outputId": "997e1e9f-2022-4391-d7f4-84123b7d758e",
        "colab": {
          "base_uri": "https://localhost:8080/",
          "height": 164
        }
      },
      "source": [
        "more_unicode[______]  # reverses the string"
      ],
      "execution_count": 0,
      "outputs": [
        {
          "output_type": "error",
          "ename": "NameError",
          "evalue": "ignored",
          "traceback": [
            "\u001b[0;31m---------------------------------------------------------------------------\u001b[0m",
            "\u001b[0;31mNameError\u001b[0m                                 Traceback (most recent call last)",
            "\u001b[0;32m<ipython-input-11-226d594d163d>\u001b[0m in \u001b[0;36m<module>\u001b[0;34m()\u001b[0m\n\u001b[0;32m----> 1\u001b[0;31m \u001b[0mmore_unicode\u001b[0m\u001b[0;34m[\u001b[0m\u001b[0m______\u001b[0m\u001b[0;34m]\u001b[0m  \u001b[0;31m# reverses the string\u001b[0m\u001b[0;34m\u001b[0m\u001b[0;34m\u001b[0m\u001b[0m\n\u001b[0m",
            "\u001b[0;31mNameError\u001b[0m: name '______' is not defined"
          ]
        }
      ]
    },
    {
      "cell_type": "markdown",
      "metadata": {
        "id": "1x9RyP4SRaeG",
        "colab_type": "text"
      },
      "source": [
        "## String Operations"
      ]
    },
    {
      "cell_type": "markdown",
      "metadata": {
        "id": "3e3wJlZrRiOk",
        "colab_type": "text"
      },
      "source": [
        "#### String Concatenation"
      ]
    },
    {
      "cell_type": "code",
      "metadata": {
        "id": "VdeVWHRFRjHP",
        "colab_type": "code",
        "outputId": "07d0001e-2e04-4601-f324-0531228c7a01",
        "colab": {
          "base_uri": "https://localhost:8080/",
          "height": 34
        }
      },
      "source": [
        "'Hello 😊' + ' and welcome ' + 'to Python 🐍!'"
      ],
      "execution_count": 0,
      "outputs": [
        {
          "output_type": "execute_result",
          "data": {
            "text/plain": [
              "'Hello 😊 and welcome to Python 🐍!'"
            ]
          },
          "metadata": {
            "tags": []
          },
          "execution_count": 11
        }
      ]
    },
    {
      "cell_type": "code",
      "metadata": {
        "id": "EVJaBj0Fx93C",
        "colab_type": "code",
        "outputId": "f5a78d24-45c7-41e8-9ce9-700a40a81e39",
        "colab": {
          "base_uri": "https://localhost:8080/",
          "height": 34
        }
      },
      "source": [
        "'Hello 😊' ' and welcome ' 'to Python 🐍!'"
      ],
      "execution_count": 0,
      "outputs": [
        {
          "output_type": "execute_result",
          "data": {
            "text/plain": [
              "'Hello 😊 and welcome to Python 🐍!'"
            ]
          },
          "metadata": {
            "tags": []
          },
          "execution_count": 12
        }
      ]
    },
    {
      "cell_type": "code",
      "metadata": {
        "id": "Nul7T7SsyA39",
        "colab_type": "code",
        "outputId": "dd093bed-fc1e-4134-91a0-717cf5ea666d",
        "colab": {
          "base_uri": "https://localhost:8080/",
          "height": 34
        }
      },
      "source": [
        "s3 = ('This '\n",
        "      'is another way '\n",
        "      'to concatenate '\n",
        "      'several strings!')\n",
        "s3"
      ],
      "execution_count": 0,
      "outputs": [
        {
          "output_type": "execute_result",
          "data": {
            "text/plain": [
              "'This is another way to concatenate several strings!'"
            ]
          },
          "metadata": {
            "tags": []
          },
          "execution_count": 13
        }
      ]
    },
    {
      "cell_type": "markdown",
      "metadata": {
        "id": "6A-5M-McyHOf",
        "colab_type": "text"
      },
      "source": [
        "#### Substring check"
      ]
    },
    {
      "cell_type": "code",
      "metadata": {
        "id": "G6n72oybyIvM",
        "colab_type": "code",
        "outputId": "582f06ff-e703-4ba0-dade-dcd341a672cd",
        "colab": {
          "base_uri": "https://localhost:8080/",
          "height": 34
        }
      },
      "source": [
        "'way' in s3"
      ],
      "execution_count": 0,
      "outputs": [
        {
          "output_type": "execute_result",
          "data": {
            "text/plain": [
              "True"
            ]
          },
          "metadata": {
            "tags": []
          },
          "execution_count": 14
        }
      ]
    },
    {
      "cell_type": "markdown",
      "metadata": {
        "id": "aOqIDI1myS8y",
        "colab_type": "text"
      },
      "source": [
        "#### Your Turn: Validate if the string 'python' is not present in string s3"
      ]
    },
    {
      "cell_type": "code",
      "metadata": {
        "id": "Aaq4oa9LycDR",
        "colab_type": "code",
        "outputId": "2c02cc6d-8134-4869-940c-ef5f939bf80b",
        "colab": {
          "base_uri": "https://localhost:8080/",
          "height": 130
        }
      },
      "source": [
        "_______ s3"
      ],
      "execution_count": 0,
      "outputs": [
        {
          "output_type": "error",
          "ename": "SyntaxError",
          "evalue": "ignored",
          "traceback": [
            "\u001b[0;36m  File \u001b[0;32m\"<ipython-input-16-429691d0ab5b>\"\u001b[0;36m, line \u001b[0;32m1\u001b[0m\n\u001b[0;31m    _______ s3\u001b[0m\n\u001b[0m             ^\u001b[0m\n\u001b[0;31mSyntaxError\u001b[0m\u001b[0;31m:\u001b[0m invalid syntax\n"
          ]
        }
      ]
    },
    {
      "cell_type": "markdown",
      "metadata": {
        "id": "3Zhp7GStykkk",
        "colab_type": "text"
      },
      "source": [
        "#### String Length"
      ]
    },
    {
      "cell_type": "code",
      "metadata": {
        "id": "qcS_2ejNymWL",
        "colab_type": "code",
        "outputId": "9d842855-5638-4796-ee39-df6409f3d206",
        "colab": {
          "base_uri": "https://localhost:8080/",
          "height": 34
        }
      },
      "source": [
        "len(s3)"
      ],
      "execution_count": 0,
      "outputs": [
        {
          "output_type": "execute_result",
          "data": {
            "text/plain": [
              "51"
            ]
          },
          "metadata": {
            "tags": []
          },
          "execution_count": 15
        }
      ]
    },
    {
      "cell_type": "markdown",
      "metadata": {
        "id": "Zv_q4hllyuiF",
        "colab_type": "text"
      },
      "source": [
        "## String Indexing and Slicing"
      ]
    },
    {
      "cell_type": "code",
      "metadata": {
        "id": "YfxVtRaXyyN7",
        "colab_type": "code",
        "outputId": "58f46116-8eb9-448b-8ddd-1459ffc93c81",
        "colab": {
          "base_uri": "https://localhost:8080/",
          "height": 34
        }
      },
      "source": [
        "# creating a string\n",
        "s = 'PYTHON'\n",
        "s, type(s)"
      ],
      "execution_count": 0,
      "outputs": [
        {
          "output_type": "execute_result",
          "data": {
            "text/plain": [
              "('PYTHON', str)"
            ]
          },
          "metadata": {
            "tags": []
          },
          "execution_count": 16
        }
      ]
    },
    {
      "cell_type": "markdown",
      "metadata": {
        "id": "csEGrxQay4g9",
        "colab_type": "text"
      },
      "source": [
        "#### String Indexing"
      ]
    },
    {
      "cell_type": "code",
      "metadata": {
        "id": "VsTa76Qqy5VX",
        "colab_type": "code",
        "outputId": "cfc0ef88-900d-42ec-85fa-49f529736e26",
        "colab": {
          "base_uri": "https://localhost:8080/",
          "height": 119
        }
      },
      "source": [
        "# depicting string indexes\n",
        "for index, character in enumerate(s):\n",
        "    print('Character ->', character, 'has index->', index)"
      ],
      "execution_count": 0,
      "outputs": [
        {
          "output_type": "stream",
          "text": [
            "Character -> P has index-> 0\n",
            "Character -> Y has index-> 1\n",
            "Character -> T has index-> 2\n",
            "Character -> H has index-> 3\n",
            "Character -> O has index-> 4\n",
            "Character -> N has index-> 5\n"
          ],
          "name": "stdout"
        }
      ]
    },
    {
      "cell_type": "code",
      "metadata": {
        "id": "f07yyyJMy-gm",
        "colab_type": "code",
        "outputId": "c88921fe-8986-43c4-ba99-234390ce1d89",
        "colab": {
          "base_uri": "https://localhost:8080/",
          "height": 34
        }
      },
      "source": [
        "s[0], s[1], s[2], s[3], s[4], s[5]"
      ],
      "execution_count": 0,
      "outputs": [
        {
          "output_type": "execute_result",
          "data": {
            "text/plain": [
              "('P', 'Y', 'T', 'H', 'O', 'N')"
            ]
          },
          "metadata": {
            "tags": []
          },
          "execution_count": 18
        }
      ]
    },
    {
      "cell_type": "code",
      "metadata": {
        "id": "QTLD-YiizF7l",
        "colab_type": "code",
        "outputId": "2c2eaa79-c45e-4922-b63a-296f89d4d2c6",
        "colab": {
          "base_uri": "https://localhost:8080/",
          "height": 34
        }
      },
      "source": [
        "s[-1], s[-2], s[-3], s[-4], s[-5], s[-6]"
      ],
      "execution_count": 0,
      "outputs": [
        {
          "output_type": "execute_result",
          "data": {
            "text/plain": [
              "('N', 'O', 'H', 'T', 'Y', 'P')"
            ]
          },
          "metadata": {
            "tags": []
          },
          "execution_count": 19
        }
      ]
    },
    {
      "cell_type": "markdown",
      "metadata": {
        "id": "tP0bkyDRzPol",
        "colab_type": "text"
      },
      "source": [
        "#### String Slicing"
      ]
    },
    {
      "cell_type": "code",
      "metadata": {
        "id": "kJqzqsYOzQzi",
        "colab_type": "code",
        "outputId": "0d256bd9-5e2f-4277-dce1-e8a2203b5ee4",
        "colab": {
          "base_uri": "https://localhost:8080/",
          "height": 34
        }
      },
      "source": [
        "s[:]"
      ],
      "execution_count": 0,
      "outputs": [
        {
          "output_type": "execute_result",
          "data": {
            "text/plain": [
              "'PYTHON'"
            ]
          },
          "metadata": {
            "tags": []
          },
          "execution_count": 20
        }
      ]
    },
    {
      "cell_type": "code",
      "metadata": {
        "id": "9xqXFD3Jzw5c",
        "colab_type": "code",
        "outputId": "7d7678d3-e60c-42ea-829a-7e6f8ca18d72",
        "colab": {
          "base_uri": "https://localhost:8080/",
          "height": 34
        }
      },
      "source": [
        "s[1:4]"
      ],
      "execution_count": 0,
      "outputs": [
        {
          "output_type": "execute_result",
          "data": {
            "text/plain": [
              "'YTH'"
            ]
          },
          "metadata": {
            "tags": []
          },
          "execution_count": 21
        }
      ]
    },
    {
      "cell_type": "code",
      "metadata": {
        "id": "YduXBbSKzzMh",
        "colab_type": "code",
        "outputId": "09aedcbe-c1b7-4a2b-9022-74b1560d6e6b",
        "colab": {
          "base_uri": "https://localhost:8080/",
          "height": 34
        }
      },
      "source": [
        "s[:3], s[3:]"
      ],
      "execution_count": 0,
      "outputs": [
        {
          "output_type": "execute_result",
          "data": {
            "text/plain": [
              "('PYT', 'HON')"
            ]
          },
          "metadata": {
            "tags": []
          },
          "execution_count": 22
        }
      ]
    },
    {
      "cell_type": "code",
      "metadata": {
        "id": "3gXL_5n3z2e_",
        "colab_type": "code",
        "outputId": "53537f65-c9b5-440e-85d6-810d1ce616a6",
        "colab": {
          "base_uri": "https://localhost:8080/",
          "height": 34
        }
      },
      "source": [
        "s[-3:]"
      ],
      "execution_count": 0,
      "outputs": [
        {
          "output_type": "execute_result",
          "data": {
            "text/plain": [
              "'HON'"
            ]
          },
          "metadata": {
            "tags": []
          },
          "execution_count": 23
        }
      ]
    },
    {
      "cell_type": "code",
      "metadata": {
        "id": "zkyRGcN7z5pM",
        "colab_type": "code",
        "outputId": "a086c383-980f-406c-ef72-3f2713b2dcb6",
        "colab": {
          "base_uri": "https://localhost:8080/",
          "height": 34
        }
      },
      "source": [
        "s[:3] + s[3:]"
      ],
      "execution_count": 0,
      "outputs": [
        {
          "output_type": "execute_result",
          "data": {
            "text/plain": [
              "'PYTHON'"
            ]
          },
          "metadata": {
            "tags": []
          },
          "execution_count": 24
        }
      ]
    },
    {
      "cell_type": "code",
      "metadata": {
        "id": "RvnOWkPYz9fG",
        "colab_type": "code",
        "outputId": "4c64d129-d225-4fd9-b08b-94ad0be7bab1",
        "colab": {
          "base_uri": "https://localhost:8080/",
          "height": 34
        }
      },
      "source": [
        "s[:3] + s[-3:]"
      ],
      "execution_count": 0,
      "outputs": [
        {
          "output_type": "execute_result",
          "data": {
            "text/plain": [
              "'PYTHON'"
            ]
          },
          "metadata": {
            "tags": []
          },
          "execution_count": 25
        }
      ]
    },
    {
      "cell_type": "markdown",
      "metadata": {
        "id": "rG0KLGIy0R7q",
        "colab_type": "text"
      },
      "source": [
        "## String slicing with offsets"
      ]
    },
    {
      "cell_type": "code",
      "metadata": {
        "id": "G2-9uZWB0SyU",
        "colab_type": "code",
        "outputId": "6e27d0e0-768e-4d16-a344-d81d9522f01e",
        "colab": {
          "base_uri": "https://localhost:8080/",
          "height": 34
        }
      },
      "source": [
        "s[::1]  # no offset"
      ],
      "execution_count": 0,
      "outputs": [
        {
          "output_type": "execute_result",
          "data": {
            "text/plain": [
              "'PYTHON'"
            ]
          },
          "metadata": {
            "tags": []
          },
          "execution_count": 26
        }
      ]
    },
    {
      "cell_type": "code",
      "metadata": {
        "id": "TBlcW97f0WJC",
        "colab_type": "code",
        "outputId": "bc4b7ad3-ba7f-4b54-e855-c89c2836eeba",
        "colab": {
          "base_uri": "https://localhost:8080/",
          "height": 34
        }
      },
      "source": [
        "s[::2]  # print every 2nd character in string"
      ],
      "execution_count": 0,
      "outputs": [
        {
          "output_type": "execute_result",
          "data": {
            "text/plain": [
              "'PTO'"
            ]
          },
          "metadata": {
            "tags": []
          },
          "execution_count": 27
        }
      ]
    },
    {
      "cell_type": "markdown",
      "metadata": {
        "id": "HaunXnKE0eu_",
        "colab_type": "text"
      },
      "source": [
        "## String Immutability"
      ]
    },
    {
      "cell_type": "code",
      "metadata": {
        "id": "uJO11EWc0fYm",
        "colab_type": "code",
        "outputId": "d75d6fa4-131d-42b3-d639-c47c0f454a42",
        "colab": {
          "base_uri": "https://localhost:8080/",
          "height": 164
        }
      },
      "source": [
        "# strings are immutable hence assignment throws error\n",
        "s[0] = 'X'"
      ],
      "execution_count": 0,
      "outputs": [
        {
          "output_type": "error",
          "ename": "TypeError",
          "evalue": "ignored",
          "traceback": [
            "\u001b[0;31m---------------------------------------------------------------------------\u001b[0m",
            "\u001b[0;31mTypeError\u001b[0m                                 Traceback (most recent call last)",
            "\u001b[0;32m<ipython-input-28-68d9ab99b09c>\u001b[0m in \u001b[0;36m<module>\u001b[0;34m()\u001b[0m\n\u001b[0;32m----> 1\u001b[0;31m \u001b[0ms\u001b[0m\u001b[0;34m[\u001b[0m\u001b[0;36m0\u001b[0m\u001b[0;34m]\u001b[0m \u001b[0;34m=\u001b[0m \u001b[0;34m'X'\u001b[0m\u001b[0;34m\u001b[0m\u001b[0;34m\u001b[0m\u001b[0m\n\u001b[0m",
            "\u001b[0;31mTypeError\u001b[0m: 'str' object does not support item assignment"
          ]
        }
      ]
    },
    {
      "cell_type": "code",
      "metadata": {
        "id": "oyUFMDA80hc7",
        "colab_type": "code",
        "outputId": "ff7f8edb-465e-4156-eb03-ce4a62dc79c1",
        "colab": {
          "base_uri": "https://localhost:8080/",
          "height": 68
        }
      },
      "source": [
        "print('Original String id:', id(s))\n",
        "# creates a new string\n",
        "s = 'X' + s[1:]\n",
        "print(s)\n",
        "print('New String id:', id(s))"
      ],
      "execution_count": 0,
      "outputs": [
        {
          "output_type": "stream",
          "text": [
            "Original String id: 140505602562960\n",
            "XYTHON\n",
            "New String id: 140505035934720\n"
          ],
          "name": "stdout"
        }
      ]
    },
    {
      "cell_type": "markdown",
      "metadata": {
        "id": "poeZ6_sp0r1U",
        "colab_type": "text"
      },
      "source": [
        "## Useful String methods"
      ]
    },
    {
      "cell_type": "markdown",
      "metadata": {
        "id": "Kb3xhz7p0_ko",
        "colab_type": "text"
      },
      "source": [
        "#### Case Conversions"
      ]
    },
    {
      "cell_type": "code",
      "metadata": {
        "id": "78m35NLv0sa-",
        "colab_type": "code",
        "colab": {}
      },
      "source": [
        "s = 'python is great'"
      ],
      "execution_count": 0,
      "outputs": []
    },
    {
      "cell_type": "code",
      "metadata": {
        "id": "VoUbTF5V1DWA",
        "colab_type": "code",
        "outputId": "e74c03c8-c377-4965-9035-a022e5dd69b6",
        "colab": {
          "base_uri": "https://localhost:8080/",
          "height": 34
        }
      },
      "source": [
        "s.capitalize()"
      ],
      "execution_count": 0,
      "outputs": [
        {
          "output_type": "execute_result",
          "data": {
            "text/plain": [
              "'Python is great'"
            ]
          },
          "metadata": {
            "tags": []
          },
          "execution_count": 31
        }
      ]
    },
    {
      "cell_type": "code",
      "metadata": {
        "id": "lJCdhOIt1G4I",
        "colab_type": "code",
        "outputId": "950545b8-0d5b-4ab2-d09c-393857e7ee64",
        "colab": {
          "base_uri": "https://localhost:8080/",
          "height": 34
        }
      },
      "source": [
        "s.upper()\n"
      ],
      "execution_count": 0,
      "outputs": [
        {
          "output_type": "execute_result",
          "data": {
            "text/plain": [
              "'PYTHON IS GREAT'"
            ]
          },
          "metadata": {
            "tags": []
          },
          "execution_count": 32
        }
      ]
    },
    {
      "cell_type": "code",
      "metadata": {
        "id": "DVYc45bu1IwQ",
        "colab_type": "code",
        "outputId": "a5683cc3-b2d5-469c-f10e-2aaeaa519d59",
        "colab": {
          "base_uri": "https://localhost:8080/",
          "height": 34
        }
      },
      "source": [
        "\n",
        "s.title()"
      ],
      "execution_count": 0,
      "outputs": [
        {
          "output_type": "execute_result",
          "data": {
            "text/plain": [
              "'Python Is Great'"
            ]
          },
          "metadata": {
            "tags": []
          },
          "execution_count": 33
        }
      ]
    },
    {
      "cell_type": "markdown",
      "metadata": {
        "id": "dGjCjoNw1cbz",
        "colab_type": "text"
      },
      "source": [
        "#### String Replace"
      ]
    },
    {
      "cell_type": "code",
      "metadata": {
        "id": "nWUP3GiL1JRx",
        "colab_type": "code",
        "outputId": "cc18a641-5446-47e8-ac17-bef5ff60a621",
        "colab": {
          "base_uri": "https://localhost:8080/",
          "height": 34
        }
      },
      "source": [
        "s.replace('python', 'NLP')"
      ],
      "execution_count": 0,
      "outputs": [
        {
          "output_type": "execute_result",
          "data": {
            "text/plain": [
              "'NLP is great'"
            ]
          },
          "metadata": {
            "tags": []
          },
          "execution_count": 34
        }
      ]
    },
    {
      "cell_type": "markdown",
      "metadata": {
        "id": "gSmf3U0C1gLn",
        "colab_type": "text"
      },
      "source": [
        "#### Numeric Checks"
      ]
    },
    {
      "cell_type": "code",
      "metadata": {
        "id": "GtYWqh041g5c",
        "colab_type": "code",
        "outputId": "03da42d4-d18e-4715-bf01-ca1edb1c6dda",
        "colab": {
          "base_uri": "https://localhost:8080/",
          "height": 34
        }
      },
      "source": [
        "'12345'.isdecimal()"
      ],
      "execution_count": 0,
      "outputs": [
        {
          "output_type": "execute_result",
          "data": {
            "text/plain": [
              "True"
            ]
          },
          "metadata": {
            "tags": []
          },
          "execution_count": 35
        }
      ]
    },
    {
      "cell_type": "code",
      "metadata": {
        "id": "W2unJghn1v8r",
        "colab_type": "code",
        "outputId": "13ac2781-203c-41f8-e0c0-b896e33623a8",
        "colab": {
          "base_uri": "https://localhost:8080/",
          "height": 34
        }
      },
      "source": [
        "'apollo11'.isdecimal()"
      ],
      "execution_count": 0,
      "outputs": [
        {
          "output_type": "execute_result",
          "data": {
            "text/plain": [
              "False"
            ]
          },
          "metadata": {
            "tags": []
          },
          "execution_count": 38
        }
      ]
    },
    {
      "cell_type": "markdown",
      "metadata": {
        "id": "CDjgkEVb1hXC",
        "colab_type": "text"
      },
      "source": [
        "####  Alphabet Checks"
      ]
    },
    {
      "cell_type": "code",
      "metadata": {
        "id": "iwdHfvRL1iNA",
        "colab_type": "code",
        "outputId": "6a8039a3-bcd2-4f19-af14-4652efa227e8",
        "colab": {
          "base_uri": "https://localhost:8080/",
          "height": 34
        }
      },
      "source": [
        "'python'.isalpha()"
      ],
      "execution_count": 0,
      "outputs": [
        {
          "output_type": "execute_result",
          "data": {
            "text/plain": [
              "True"
            ]
          },
          "metadata": {
            "tags": []
          },
          "execution_count": 39
        }
      ]
    },
    {
      "cell_type": "code",
      "metadata": {
        "id": "BjQGMWoLPEBR",
        "colab_type": "code",
        "outputId": "6f13a28f-b90d-4a70-a364-9c445f01f4db",
        "colab": {
          "base_uri": "https://localhost:8080/",
          "height": 34
        }
      },
      "source": [
        "'number1'.isalpha()"
      ],
      "execution_count": 0,
      "outputs": [
        {
          "output_type": "execute_result",
          "data": {
            "text/plain": [
              "False"
            ]
          },
          "metadata": {
            "tags": []
          },
          "execution_count": 40
        }
      ]
    },
    {
      "cell_type": "markdown",
      "metadata": {
        "id": "GW7pJ8wyPHaZ",
        "colab_type": "text"
      },
      "source": [
        "#### Alphanumeric Checks"
      ]
    },
    {
      "cell_type": "code",
      "metadata": {
        "id": "ziGcXbXJPGDl",
        "colab_type": "code",
        "outputId": "1cf1730d-b65f-4c6c-c51e-e1c7c8a78bef",
        "colab": {
          "base_uri": "https://localhost:8080/",
          "height": 34
        }
      },
      "source": [
        "'total'.isalnum()"
      ],
      "execution_count": 0,
      "outputs": [
        {
          "output_type": "execute_result",
          "data": {
            "text/plain": [
              "True"
            ]
          },
          "metadata": {
            "tags": []
          },
          "execution_count": 41
        }
      ]
    },
    {
      "cell_type": "code",
      "metadata": {
        "id": "8gIXQxCzPN2V",
        "colab_type": "code",
        "outputId": "cc5cf561-71af-478b-a269-75970b356883",
        "colab": {
          "base_uri": "https://localhost:8080/",
          "height": 34
        }
      },
      "source": [
        "'abc123'.isalnum()"
      ],
      "execution_count": 0,
      "outputs": [
        {
          "output_type": "execute_result",
          "data": {
            "text/plain": [
              "True"
            ]
          },
          "metadata": {
            "tags": []
          },
          "execution_count": 42
        }
      ]
    },
    {
      "cell_type": "code",
      "metadata": {
        "id": "zgoeK7yePQKP",
        "colab_type": "code",
        "outputId": "721aee04-2f2b-4083-8bc2-80eb8220c2b8",
        "colab": {
          "base_uri": "https://localhost:8080/",
          "height": 34
        }
      },
      "source": [
        "'1+1'.isalnum()"
      ],
      "execution_count": 0,
      "outputs": [
        {
          "output_type": "execute_result",
          "data": {
            "text/plain": [
              "False"
            ]
          },
          "metadata": {
            "tags": []
          },
          "execution_count": 43
        }
      ]
    },
    {
      "cell_type": "markdown",
      "metadata": {
        "id": "e9wrnmTwVvgM",
        "colab_type": "text"
      },
      "source": [
        "#### String splitting and joining"
      ]
    },
    {
      "cell_type": "code",
      "metadata": {
        "id": "xTgBhGtVPSaZ",
        "colab_type": "code",
        "outputId": "8bbbf153-3799-480b-c92a-2a276138c626",
        "colab": {
          "base_uri": "https://localhost:8080/",
          "height": 34
        }
      },
      "source": [
        "s = 'I,am,a,comma,separated,string'\n",
        "s"
      ],
      "execution_count": 0,
      "outputs": [
        {
          "output_type": "execute_result",
          "data": {
            "text/plain": [
              "'I,am,a,comma,separated,string'"
            ]
          },
          "metadata": {
            "tags": []
          },
          "execution_count": 37
        }
      ]
    },
    {
      "cell_type": "code",
      "metadata": {
        "id": "dV79z-sXVzAY",
        "colab_type": "code",
        "outputId": "29e00eb7-c1d9-42b7-c6f9-eb36b27ae8ec",
        "colab": {
          "base_uri": "https://localhost:8080/",
          "height": 34
        }
      },
      "source": [
        "s.split(' ')"
      ],
      "execution_count": 0,
      "outputs": [
        {
          "output_type": "execute_result",
          "data": {
            "text/plain": [
              "['I,am,a,comma,separated,string']"
            ]
          },
          "metadata": {
            "tags": []
          },
          "execution_count": 39
        }
      ]
    },
    {
      "cell_type": "code",
      "metadata": {
        "id": "8Yphki6xV7VW",
        "colab_type": "code",
        "outputId": "3cb5070b-4795-446f-9629-6eec656d177b",
        "colab": {
          "base_uri": "https://localhost:8080/",
          "height": 34
        }
      },
      "source": [
        "' '.join(s.split(','))"
      ],
      "execution_count": 0,
      "outputs": [
        {
          "output_type": "execute_result",
          "data": {
            "text/plain": [
              "'I am a comma separated string'"
            ]
          },
          "metadata": {
            "tags": []
          },
          "execution_count": 40
        }
      ]
    },
    {
      "cell_type": "code",
      "metadata": {
        "id": "nmnFwKBeV-hr",
        "colab_type": "code",
        "outputId": "bf5b47d4-01e9-46d6-8423-8005c124d00c",
        "colab": {
          "base_uri": "https://localhost:8080/",
          "height": 34
        }
      },
      "source": [
        "# stripping whitespace characters\n",
        "s = '   I am surrounded by spaces    '\n",
        "s"
      ],
      "execution_count": 0,
      "outputs": [
        {
          "output_type": "execute_result",
          "data": {
            "text/plain": [
              "'   I am surrounded by spaces    '"
            ]
          },
          "metadata": {
            "tags": []
          },
          "execution_count": 41
        }
      ]
    },
    {
      "cell_type": "code",
      "metadata": {
        "id": "bs_zzqASWF0s",
        "colab_type": "code",
        "outputId": "7bc25290-1dc9-4e54-9817-7311daf71aa2",
        "colab": {
          "base_uri": "https://localhost:8080/",
          "height": 34
        }
      },
      "source": [
        "s.strip()"
      ],
      "execution_count": 0,
      "outputs": [
        {
          "output_type": "execute_result",
          "data": {
            "text/plain": [
              "'I am surrounded by spaces'"
            ]
          },
          "metadata": {
            "tags": []
          },
          "execution_count": 42
        }
      ]
    },
    {
      "cell_type": "code",
      "metadata": {
        "id": "_P1wQ7ZgWPPK",
        "colab_type": "code",
        "outputId": "b34ded42-2eeb-4c25-c35b-6173830315c1",
        "colab": {
          "base_uri": "https://localhost:8080/",
          "height": 34
        }
      },
      "source": [
        "sentences = 'Python is great. NLP is also good.'\n",
        "sentences.split('.')"
      ],
      "execution_count": 0,
      "outputs": [
        {
          "output_type": "execute_result",
          "data": {
            "text/plain": [
              "['Python is great', ' NLP is also good', '']"
            ]
          },
          "metadata": {
            "tags": []
          },
          "execution_count": 43
        }
      ]
    },
    {
      "cell_type": "code",
      "metadata": {
        "id": "gVgVzwVGWRc4",
        "colab_type": "code",
        "outputId": "0f9c8a6c-5934-4587-9b72-1eec68957380",
        "colab": {
          "base_uri": "https://localhost:8080/",
          "height": 68
        }
      },
      "source": [
        "print('\\n'.join(sentences.split('.')))"
      ],
      "execution_count": 0,
      "outputs": [
        {
          "output_type": "stream",
          "text": [
            "Python is great\n",
            " NLP is also good\n",
            "\n"
          ],
          "name": "stdout"
        }
      ]
    },
    {
      "cell_type": "code",
      "metadata": {
        "id": "m860zbAXWhYK",
        "colab_type": "code",
        "outputId": "f74a3c4b-3bf7-4401-af80-0c6bed338475",
        "colab": {
          "base_uri": "https://localhost:8080/",
          "height": 102
        }
      },
      "source": [
        "sentences = 'Python is great. NLP is also good.Python is great. NLP is also good.'\n",
        "print('\\n'.join(sentences.split('.')))"
      ],
      "execution_count": 0,
      "outputs": [
        {
          "output_type": "stream",
          "text": [
            "Python is great\n",
            " NLP is also good\n",
            "Python is great\n",
            " NLP is also good\n",
            "\n"
          ],
          "name": "stdout"
        }
      ]
    },
    {
      "cell_type": "code",
      "metadata": {
        "id": "fxFl3GeiWUYg",
        "colab_type": "code",
        "outputId": "b011b196-5b91-43bb-ce07-e2a5ef1b7ff6",
        "colab": {
          "base_uri": "https://localhost:8080/",
          "height": 85
        }
      },
      "source": [
        "print('\\n'.join([sentence.strip() \n",
        "                     for sentence in sentences.split('.') \n",
        "                         if sentence]))"
      ],
      "execution_count": 0,
      "outputs": [
        {
          "output_type": "stream",
          "text": [
            "Python is great\n",
            "NLP is also good\n",
            "Python is great\n",
            "NLP is also good\n"
          ],
          "name": "stdout"
        }
      ]
    },
    {
      "cell_type": "markdown",
      "metadata": {
        "id": "yIKdfZejWvUn",
        "colab_type": "text"
      },
      "source": [
        "## String formatting"
      ]
    },
    {
      "cell_type": "markdown",
      "metadata": {
        "id": "gk1idSliXwZI",
        "colab_type": "text"
      },
      "source": [
        "#### Formatting expressions with different data types - old style"
      ]
    },
    {
      "cell_type": "code",
      "metadata": {
        "id": "WR5qiR_mWe5P",
        "colab_type": "code",
        "outputId": "2f97b6b5-30c1-4bd7-9d65-d823d97317a9",
        "colab": {
          "base_uri": "https://localhost:8080/",
          "height": 34
        }
      },
      "source": [
        "'We have %d %s containing %.2f gallons of %s' %(2, 'bottles', 2.5, 'milk')\n"
      ],
      "execution_count": 0,
      "outputs": [
        {
          "output_type": "execute_result",
          "data": {
            "text/plain": [
              "'We have 2 bottles containing 2.50 gallons of milk'"
            ]
          },
          "metadata": {
            "tags": []
          },
          "execution_count": 47
        }
      ]
    },
    {
      "cell_type": "code",
      "metadata": {
        "id": "ifjtFFwyX1gO",
        "colab_type": "code",
        "outputId": "523d4177-b5e9-4fb2-d53b-3df3e7f54e00",
        "colab": {
          "base_uri": "https://localhost:8080/",
          "height": 34
        }
      },
      "source": [
        "'We have %d %s containing %.2f gallons of %s' %(5.21, 'jugs', 10.86763, 'juice')"
      ],
      "execution_count": 0,
      "outputs": [
        {
          "output_type": "execute_result",
          "data": {
            "text/plain": [
              "'We have 5 jugs containing 10.87 gallons of juice'"
            ]
          },
          "metadata": {
            "tags": []
          },
          "execution_count": 48
        }
      ]
    },
    {
      "cell_type": "markdown",
      "metadata": {
        "id": "FGYfuUn_X7kh",
        "colab_type": "text"
      },
      "source": [
        "#### Formatting strings using the format method - new style"
      ]
    },
    {
      "cell_type": "code",
      "metadata": {
        "id": "YJlotgV0X4vv",
        "colab_type": "code",
        "outputId": "c16cc59a-d3ed-4532-f299-0422322b039b",
        "colab": {
          "base_uri": "https://localhost:8080/",
          "height": 34
        }
      },
      "source": [
        "'Hello {} {}, it is a great {} to meet you at {}'.format('Mr.', 'Jones', 'pleasure', 5)"
      ],
      "execution_count": 0,
      "outputs": [
        {
          "output_type": "execute_result",
          "data": {
            "text/plain": [
              "'Hello Mr. Jones, it is a great pleasure to meet you at 5'"
            ]
          },
          "metadata": {
            "tags": []
          },
          "execution_count": 55
        }
      ]
    },
    {
      "cell_type": "code",
      "metadata": {
        "id": "1C0jYak_YAy7",
        "colab_type": "code",
        "outputId": "25ffa446-842d-4001-83bf-dadb55f32fd4",
        "colab": {
          "base_uri": "https://localhost:8080/",
          "height": 34
        }
      },
      "source": [
        "'Hello {} {}, it is a great {} to meet you at {} o\\' clock'.format('Sir', 'Arthur', 'honor', 9)\n"
      ],
      "execution_count": 0,
      "outputs": [
        {
          "output_type": "execute_result",
          "data": {
            "text/plain": [
              "\"Hello Sir Arthur, it is a great honor to meet you at 9 o' clock\""
            ]
          },
          "metadata": {
            "tags": []
          },
          "execution_count": 56
        }
      ]
    },
    {
      "cell_type": "markdown",
      "metadata": {
        "id": "uXTGnSZSYHCl",
        "colab_type": "text"
      },
      "source": [
        "#### Alternative ways of using string format"
      ]
    },
    {
      "cell_type": "code",
      "metadata": {
        "id": "wgB7riJQYDXM",
        "colab_type": "code",
        "outputId": "6d48d2fb-18cf-4c40-d0bf-ab327ee64766",
        "colab": {
          "base_uri": "https://localhost:8080/",
          "height": 34
        }
      },
      "source": [
        "'I have a {food_item} and a {drink_item} with me'.format(drink_item='soda', food_item='sandwich')"
      ],
      "execution_count": 0,
      "outputs": [
        {
          "output_type": "execute_result",
          "data": {
            "text/plain": [
              "'I have a sandwich and a soda with me'"
            ]
          },
          "metadata": {
            "tags": []
          },
          "execution_count": 57
        }
      ]
    },
    {
      "cell_type": "code",
      "metadata": {
        "id": "brbFUXybYKgy",
        "colab_type": "code",
        "outputId": "04abb4ca-37b9-4f58-d587-947e7ca26096",
        "colab": {
          "base_uri": "https://localhost:8080/",
          "height": 34
        }
      },
      "source": [
        "'The {animal} has the following attributes: {attributes}'.format(animal='dog', attributes=['lazy', 'loyal'])"
      ],
      "execution_count": 0,
      "outputs": [
        {
          "output_type": "execute_result",
          "data": {
            "text/plain": [
              "\"The dog has the following attributes: ['lazy', 'loyal']\""
            ]
          },
          "metadata": {
            "tags": []
          },
          "execution_count": 58
        }
      ]
    },
    {
      "cell_type": "markdown",
      "metadata": {
        "id": "J9vkw0LoYRem",
        "colab_type": "text"
      },
      "source": [
        "## Regular Expressions"
      ]
    },
    {
      "cell_type": "code",
      "metadata": {
        "id": "6BRZd9e9YM_g",
        "colab_type": "code",
        "colab": {}
      },
      "source": [
        "s1 = 'Python is an excellent language'\n",
        "s2 = 'I love the Python language. I also use Python to build applications at work!'"
      ],
      "execution_count": 0,
      "outputs": []
    },
    {
      "cell_type": "code",
      "metadata": {
        "id": "2vLQpfAiYiof",
        "colab_type": "code",
        "colab": {}
      },
      "source": [
        "import re\n",
        "\n",
        "pattern = 'python'\n",
        "# match only returns a match if regex match is found at the beginning of the string\n",
        "re.match(pattern, s1)"
      ],
      "execution_count": 0,
      "outputs": []
    },
    {
      "cell_type": "code",
      "metadata": {
        "id": "Fl8kO2S1YlBb",
        "colab_type": "code",
        "outputId": "227f7d8e-987a-4a2b-bfc9-66ddfd3a4fff",
        "colab": {
          "base_uri": "https://localhost:8080/",
          "height": 34
        }
      },
      "source": [
        "# pattern is in lower case hence ignore case flag helps\n",
        "# in matching same pattern with different cases\n",
        "re.match(pattern, s1, flags=re.IGNORECASE)"
      ],
      "execution_count": 0,
      "outputs": [
        {
          "output_type": "execute_result",
          "data": {
            "text/plain": [
              "<_sre.SRE_Match object; span=(0, 6), match='Python'>"
            ]
          },
          "metadata": {
            "tags": []
          },
          "execution_count": 52
        }
      ]
    },
    {
      "cell_type": "code",
      "metadata": {
        "id": "BL6Y5PslYnbd",
        "colab_type": "code",
        "outputId": "836badfd-7ce0-4134-9ad2-e6224ad6eb79",
        "colab": {
          "base_uri": "https://localhost:8080/",
          "height": 54
        }
      },
      "source": [
        "# printing matched string and its indices in the original string\n",
        "m = re.match(pattern, s1, flags=re.IGNORECASE)\n",
        "print('Found match {} ranging from index {} - {} in the string \"{}\"'.format(m.group(0), \n",
        "                                                                            m.start(), \n",
        "                                                                            m.end(), s1))"
      ],
      "execution_count": 0,
      "outputs": [
        {
          "output_type": "stream",
          "text": [
            "Found match Python ranging from index 0 - 6 in the string \"Python is an excellent language\"\n"
          ],
          "name": "stdout"
        }
      ]
    },
    {
      "cell_type": "code",
      "metadata": {
        "id": "sINmBW9gY6I2",
        "colab_type": "code",
        "colab": {}
      },
      "source": [
        "\n",
        "# match does not work when pattern is not there in the beginning of string s2\n",
        "re.match(pattern, s2, re.IGNORECASE)"
      ],
      "execution_count": 0,
      "outputs": []
    },
    {
      "cell_type": "code",
      "metadata": {
        "id": "-MGOeZ5_Y_D7",
        "colab_type": "code",
        "outputId": "ba4e81df-30a8-4bbe-9c61-a322d793a6fc",
        "colab": {
          "base_uri": "https://localhost:8080/",
          "height": 34
        }
      },
      "source": [
        "# illustrating find and search methods using the re module\n",
        "re.search(pattern, s2, re.IGNORECASE)"
      ],
      "execution_count": 0,
      "outputs": [
        {
          "output_type": "execute_result",
          "data": {
            "text/plain": [
              "<_sre.SRE_Match object; span=(11, 17), match='Python'>"
            ]
          },
          "metadata": {
            "tags": []
          },
          "execution_count": 56
        }
      ]
    },
    {
      "cell_type": "code",
      "metadata": {
        "id": "PWwk2n8TZaS-",
        "colab_type": "code",
        "outputId": "922affa7-8137-4145-e140-a2444985113f",
        "colab": {
          "base_uri": "https://localhost:8080/",
          "height": 34
        }
      },
      "source": [
        "re.findall(pattern, s2, re.IGNORECASE)"
      ],
      "execution_count": 0,
      "outputs": [
        {
          "output_type": "execute_result",
          "data": {
            "text/plain": [
              "['Python', 'Python']"
            ]
          },
          "metadata": {
            "tags": []
          },
          "execution_count": 57
        }
      ]
    },
    {
      "cell_type": "code",
      "metadata": {
        "id": "LbJ4gUXnZcfe",
        "colab_type": "code",
        "outputId": "c4b74e64-3103-40c5-b85f-ca27aa1f6867",
        "colab": {
          "base_uri": "https://localhost:8080/",
          "height": 34
        }
      },
      "source": [
        "match_objs = re.finditer(pattern, s2, re.IGNORECASE)\n",
        "match_objs"
      ],
      "execution_count": 0,
      "outputs": [
        {
          "output_type": "execute_result",
          "data": {
            "text/plain": [
              "<callable_iterator at 0x7fc9e0ba35f8>"
            ]
          },
          "metadata": {
            "tags": []
          },
          "execution_count": 58
        }
      ]
    },
    {
      "cell_type": "code",
      "metadata": {
        "id": "Q3DsfMIIZexd",
        "colab_type": "code",
        "outputId": "db35b6f9-3ff5-443f-e48d-c19d5b7dc44c",
        "colab": {
          "base_uri": "https://localhost:8080/",
          "height": 88
        }
      },
      "source": [
        "print(\"String:\", s2)\n",
        "\n",
        "for m in match_objs:\n",
        "    print('Found match \"{}\" ranging from index {} - {}'.format(m.group(0), \n",
        "                                                               m.start(), m.end()))"
      ],
      "execution_count": 0,
      "outputs": [
        {
          "output_type": "stream",
          "text": [
            "String: I love the Python language. I also use Python to build applications at work!\n",
            "Found match \"Python\" ranging from index 11 - 17\n",
            "Found match \"Python\" ranging from index 39 - 45\n"
          ],
          "name": "stdout"
        }
      ]
    },
    {
      "cell_type": "code",
      "metadata": {
        "id": "76reXJUyZhtj",
        "colab_type": "code",
        "outputId": "3acaea18-5242-4fe1-9e87-da5997d74df6",
        "colab": {
          "base_uri": "https://localhost:8080/",
          "height": 34
        }
      },
      "source": [
        "# illustrating pattern substitution using sub and subn methods\n",
        "re.sub(pattern, 'Java', s2, flags=re.IGNORECASE)"
      ],
      "execution_count": 0,
      "outputs": [
        {
          "output_type": "execute_result",
          "data": {
            "text/plain": [
              "'I love the Java language. I also use Java to build applications at work!'"
            ]
          },
          "metadata": {
            "tags": []
          },
          "execution_count": 61
        }
      ]
    },
    {
      "cell_type": "code",
      "metadata": {
        "id": "1yUJ8aByZxAu",
        "colab_type": "code",
        "outputId": "cce9b93f-4a3d-4a64-de71-7aa0c4536dce",
        "colab": {
          "base_uri": "https://localhost:8080/",
          "height": 34
        }
      },
      "source": [
        "re.subn(pattern, 'Java', s2, flags=re.IGNORECASE)"
      ],
      "execution_count": 0,
      "outputs": [
        {
          "output_type": "execute_result",
          "data": {
            "text/plain": [
              "('I love the Java language. I also use Java to build applications at work!', 2)"
            ]
          },
          "metadata": {
            "tags": []
          },
          "execution_count": 62
        }
      ]
    },
    {
      "cell_type": "code",
      "metadata": {
        "id": "AH9WgRQpZzOI",
        "colab_type": "code",
        "outputId": "17db0acf-15ee-4839-a7cf-c62c246c0e6a",
        "colab": {
          "base_uri": "https://localhost:8080/",
          "height": 34
        }
      },
      "source": [
        "# dealing with unicode matching using regexes\n",
        "s = u'H\\u00e8llo! this is Python 🐍'\n",
        "s"
      ],
      "execution_count": 0,
      "outputs": [
        {
          "output_type": "execute_result",
          "data": {
            "text/plain": [
              "'Hèllo! this is Python 🐍'"
            ]
          },
          "metadata": {
            "tags": []
          },
          "execution_count": 63
        }
      ]
    },
    {
      "cell_type": "code",
      "metadata": {
        "id": "qLuCaca2Z1Ya",
        "colab_type": "code",
        "outputId": "087791ca-c814-49f7-b57e-8d9c94c6d65c",
        "colab": {
          "base_uri": "https://localhost:8080/",
          "height": 34
        }
      },
      "source": [
        "re.findall(r'\\w+', s)"
      ],
      "execution_count": 0,
      "outputs": [
        {
          "output_type": "execute_result",
          "data": {
            "text/plain": [
              "['Hèllo', 'this', 'is', 'Python']"
            ]
          },
          "metadata": {
            "tags": []
          },
          "execution_count": 64
        }
      ]
    },
    {
      "cell_type": "code",
      "metadata": {
        "id": "JpM-AJi3Z5M3",
        "colab_type": "code",
        "outputId": "d1576b34-70bd-4d78-f340-ded6e449c47f",
        "colab": {
          "base_uri": "https://localhost:8080/",
          "height": 34
        }
      },
      "source": [
        "re.findall(r\"[A-Z]\\w+\", s)"
      ],
      "execution_count": 0,
      "outputs": [
        {
          "output_type": "execute_result",
          "data": {
            "text/plain": [
              "['Hèllo', 'Python']"
            ]
          },
          "metadata": {
            "tags": []
          },
          "execution_count": 65
        }
      ]
    },
    {
      "cell_type": "code",
      "metadata": {
        "id": "kU9F3DOWZ8b_",
        "colab_type": "code",
        "outputId": "dd3e237c-7904-448c-ba74-551cd441bae9",
        "colab": {
          "base_uri": "https://localhost:8080/",
          "height": 34
        }
      },
      "source": [
        "emoji_pattern = r\"['\\U0001F300-\\U0001F5FF'|'\\U0001F600-\\U0001F64F'|'\\U0001F680-\\U0001F6FF'|'\\u2600-\\u26FF\\u2700-\\u27BF']\"\n",
        "re.findall(emoji_pattern, s, re.UNICODE)"
      ],
      "execution_count": 0,
      "outputs": [
        {
          "output_type": "execute_result",
          "data": {
            "text/plain": [
              "['🐍']"
            ]
          },
          "metadata": {
            "tags": []
          },
          "execution_count": 66
        }
      ]
    },
    {
      "cell_type": "markdown",
      "metadata": {
        "id": "cgOuYyysaH-1",
        "colab_type": "text"
      },
      "source": [
        "## Putting it all together - Basic Text Processing and Analysis"
      ]
    },
    {
      "cell_type": "code",
      "metadata": {
        "id": "IN4ubBKNab3N",
        "colab_type": "code",
        "outputId": "6a8444b6-9d40-4c34-96c4-e55c65194fc5",
        "colab": {
          "base_uri": "https://localhost:8080/",
          "height": 68
        }
      },
      "source": [
        "import nltk\n",
        "nltk.download('gutenberg')"
      ],
      "execution_count": 0,
      "outputs": [
        {
          "output_type": "stream",
          "text": [
            "[nltk_data] Downloading package gutenberg to /root/nltk_data...\n",
            "[nltk_data]   Unzipping corpora/gutenberg.zip.\n"
          ],
          "name": "stdout"
        },
        {
          "output_type": "execute_result",
          "data": {
            "text/plain": [
              "True"
            ]
          },
          "metadata": {
            "tags": []
          },
          "execution_count": 67
        }
      ]
    },
    {
      "cell_type": "code",
      "metadata": {
        "id": "DXARIc6HZ_AX",
        "colab_type": "code",
        "outputId": "76ca4878-2fd7-4b19-935a-904d9208d416",
        "colab": {
          "base_uri": "https://localhost:8080/",
          "height": 102
        }
      },
      "source": [
        "from nltk.corpus import gutenberg\n",
        "import seaborn as sns\n",
        "\n",
        "%matplotlib inline\n",
        "\n",
        "bible = gutenberg.open('bible-kjv.txt')\n",
        "bible = bible.readlines()\n",
        "\n",
        "bible[:5]"
      ],
      "execution_count": 0,
      "outputs": [
        {
          "output_type": "execute_result",
          "data": {
            "text/plain": [
              "['[The King James Bible]\\n',\n",
              " '\\n',\n",
              " 'The Old Testament of the King James Bible\\n',\n",
              " '\\n',\n",
              " 'The First Book of Moses:  Called Genesis\\n']"
            ]
          },
          "metadata": {
            "tags": []
          },
          "execution_count": 69
        }
      ]
    },
    {
      "cell_type": "code",
      "metadata": {
        "id": "V4RyClMSaLsu",
        "colab_type": "code",
        "outputId": "54365e66-639a-41b8-d5b8-bc6ace90b3a4",
        "colab": {
          "base_uri": "https://localhost:8080/",
          "height": 34
        }
      },
      "source": [
        "# Total lines\n",
        "len(bible)"
      ],
      "execution_count": 0,
      "outputs": [
        {
          "output_type": "execute_result",
          "data": {
            "text/plain": [
              "99805"
            ]
          },
          "metadata": {
            "tags": []
          },
          "execution_count": 70
        }
      ]
    },
    {
      "cell_type": "code",
      "metadata": {
        "id": "MBfT4WUebFNz",
        "colab_type": "code",
        "outputId": "f5278121-d1a0-41c7-ee4f-b37c72366401",
        "colab": {
          "base_uri": "https://localhost:8080/",
          "height": 102
        }
      },
      "source": [
        "[item.strip('\\n') for item in bible[:5]]"
      ],
      "execution_count": 0,
      "outputs": [
        {
          "output_type": "execute_result",
          "data": {
            "text/plain": [
              "['[The King James Bible]',\n",
              " '',\n",
              " 'The Old Testament of the King James Bible',\n",
              " '',\n",
              " 'The First Book of Moses:  Called Genesis']"
            ]
          },
          "metadata": {
            "tags": []
          },
          "execution_count": 71
        }
      ]
    },
    {
      "cell_type": "code",
      "metadata": {
        "id": "Wlzb5IQ8bHmw",
        "colab_type": "code",
        "outputId": "c7fcdcb3-7e20-4662-d25a-46f0f177195b",
        "colab": {
          "base_uri": "https://localhost:8080/",
          "height": 102
        }
      },
      "source": [
        "bible = list(filter(None, [item.strip('\\n') \n",
        "                               for item in bible]))\n",
        "bible[:5]"
      ],
      "execution_count": 0,
      "outputs": [
        {
          "output_type": "execute_result",
          "data": {
            "text/plain": [
              "['[The King James Bible]',\n",
              " 'The Old Testament of the King James Bible',\n",
              " 'The First Book of Moses:  Called Genesis',\n",
              " '1:1 In the beginning God created the heaven and the earth.',\n",
              " '1:2 And the earth was without form, and void; and darkness was upon']"
            ]
          },
          "metadata": {
            "tags": []
          },
          "execution_count": 72
        }
      ]
    },
    {
      "cell_type": "code",
      "metadata": {
        "id": "fpfwryBzbKZL",
        "colab_type": "code",
        "outputId": "a8721d2a-4d70-4652-bc93-00b931bf3878",
        "colab": {
          "base_uri": "https://localhost:8080/",
          "height": 34
        }
      },
      "source": [
        "len(bible)"
      ],
      "execution_count": 0,
      "outputs": [
        {
          "output_type": "execute_result",
          "data": {
            "text/plain": [
              "74645"
            ]
          },
          "metadata": {
            "tags": []
          },
          "execution_count": 79
        }
      ]
    },
    {
      "cell_type": "markdown",
      "metadata": {
        "id": "jUHo3p98bRSQ",
        "colab_type": "text"
      },
      "source": [
        "#### Finding out the distribution of sentence lengths in the Bible"
      ]
    },
    {
      "cell_type": "code",
      "metadata": {
        "id": "1XoY3pk7bNQm",
        "colab_type": "code",
        "outputId": "be16fc26-5313-4378-f81c-05ef63a15234",
        "colab": {
          "base_uri": "https://localhost:8080/",
          "height": 269
        }
      },
      "source": [
        "line_lengths = [len(sentence) for sentence in bible]\n",
        "p = sns.kdeplot(line_lengths, shade=True, color='red')"
      ],
      "execution_count": 0,
      "outputs": [
        {
          "output_type": "display_data",
          "data": {
            "image/png": "[encoded data removed]",
            "text/plain": [
              "<Figure size 432x288 with 1 Axes>"
            ]
          },
          "metadata": {
            "tags": []
          }
        }
      ]
    },
    {
      "cell_type": "code",
      "metadata": {
        "id": "T7quRCwJb0jH",
        "colab_type": "code",
        "outputId": "24e76bbd-4916-4dfe-e3bb-c3955e36e66c",
        "colab": {
          "base_uri": "https://localhost:8080/",
          "height": 54
        }
      },
      "source": [
        "# splitting each sentence to get words\n",
        "tokens = [item.split() for item in bible]\n",
        "print(tokens[:5])"
      ],
      "execution_count": 0,
      "outputs": [
        {
          "output_type": "stream",
          "text": [
            "[['[The', 'King', 'James', 'Bible]'], ['The', 'Old', 'Testament', 'of', 'the', 'King', 'James', 'Bible'], ['The', 'First', 'Book', 'of', 'Moses:', 'Called', 'Genesis'], ['1:1', 'In', 'the', 'beginning', 'God', 'created', 'the', 'heaven', 'and', 'the', 'earth.'], ['1:2', 'And', 'the', 'earth', 'was', 'without', 'form,', 'and', 'void;', 'and', 'darkness', 'was', 'upon']]\n"
          ],
          "name": "stdout"
        }
      ]
    },
    {
      "cell_type": "markdown",
      "metadata": {
        "id": "ismaGy7YIlZe",
        "colab_type": "text"
      },
      "source": [
        "#### Your Turn: Plot the distribution of the typical sentence word counts across the Bible"
      ]
    },
    {
      "cell_type": "code",
      "metadata": {
        "id": "1MCfH5iLb3LA",
        "colab_type": "code",
        "colab": {}
      },
      "source": [
        "total_tokens_per_line = [_______ for _____ in ______]\n",
        "p = sns.kdeplot(________, shade=True, color='orange')"
      ],
      "execution_count": 0,
      "outputs": []
    },
    {
      "cell_type": "markdown",
      "metadata": {
        "id": "BmmV8SEbIsDX",
        "colab_type": "text"
      },
      "source": [
        "#### Flattening a list of lists\n",
        "\n",
        "Note the two for statements in the list comprehension below which we use to convert our list of tokenized sentences into one big flat list of tokens."
      ]
    },
    {
      "cell_type": "code",
      "metadata": {
        "id": "hoqubnAGIogT",
        "colab_type": "code",
        "outputId": "643bd739-9855-4faf-cf33-9e61cf327749",
        "colab": {
          "base_uri": "https://localhost:8080/",
          "height": 54
        }
      },
      "source": [
        "words = [word for sentence in tokens for word in sentence]\n",
        "print(words[:20])"
      ],
      "execution_count": 0,
      "outputs": [
        {
          "output_type": "stream",
          "text": [
            "['[The', 'King', 'James', 'Bible]', 'The', 'Old', 'Testament', 'of', 'the', 'King', 'James', 'Bible', 'The', 'First', 'Book', 'of', 'Moses:', 'Called', 'Genesis', '1:1']\n"
          ],
          "name": "stdout"
        }
      ]
    },
    {
      "cell_type": "code",
      "metadata": {
        "id": "0CG7L3exIxgy",
        "colab_type": "code",
        "outputId": "d6c563b1-9668-4b27-bf6e-d4507056981e",
        "colab": {
          "base_uri": "https://localhost:8080/",
          "height": 54
        }
      },
      "source": [
        "# only keeping words and removing special characters\n",
        "words = list(filter(None, [re.sub(r'[^A-Za-z]', '', word) for word in words]))\n",
        "print(words[:20])"
      ],
      "execution_count": 0,
      "outputs": [
        {
          "output_type": "stream",
          "text": [
            "['The', 'King', 'James', 'Bible', 'The', 'Old', 'Testament', 'of', 'the', 'King', 'James', 'Bible', 'The', 'First', 'Book', 'of', 'Moses', 'Called', 'Genesis', 'In']\n"
          ],
          "name": "stdout"
        }
      ]
    },
    {
      "cell_type": "markdown",
      "metadata": {
        "id": "xaBvFl38I-np",
        "colab_type": "text"
      },
      "source": [
        "#### Finding the top ten most common words"
      ]
    },
    {
      "cell_type": "code",
      "metadata": {
        "id": "z30NL5dlI6kG",
        "colab_type": "code",
        "outputId": "3f263b94-bf8d-4009-c0a6-b588750eeb9b",
        "colab": {
          "base_uri": "https://localhost:8080/",
          "height": 187
        }
      },
      "source": [
        "from collections import Counter\n",
        "\n",
        "words = [word.lower() for word in words]\n",
        "c = Counter(words)\n",
        "c.most_common(10)"
      ],
      "execution_count": 0,
      "outputs": [
        {
          "output_type": "execute_result",
          "data": {
            "text/plain": [
              "[('the', 64023),\n",
              " ('and', 51696),\n",
              " ('of', 34670),\n",
              " ('to', 13580),\n",
              " ('that', 12912),\n",
              " ('in', 12667),\n",
              " ('he', 10419),\n",
              " ('shall', 9838),\n",
              " ('unto', 8997),\n",
              " ('for', 8970)]"
            ]
          },
          "metadata": {
            "tags": []
          },
          "execution_count": 84
        }
      ]
    },
    {
      "cell_type": "markdown",
      "metadata": {
        "id": "BmvzY0FtJFnU",
        "colab_type": "text"
      },
      "source": [
        "#### Your Turn: Removing stopwords and looking at the top ten most common words\n",
        "Stopwords are filler words like articles, conjunctions etc which don't carry a lot of information on their own. You have seen some examples in the previous section. Can you remove the stopwords from our previous list of words and show the top ten words?\n",
        "\n",
        "You can retrieve a list of common stopwords using the standard nltk library as follows."
      ]
    },
    {
      "cell_type": "code",
      "metadata": {
        "id": "KM-uG7tFJMpm",
        "colab_type": "code",
        "outputId": "e902575e-86f3-4a6a-fb88-80ea554a96be",
        "colab": {
          "base_uri": "https://localhost:8080/",
          "height": 68
        }
      },
      "source": [
        "import nltk\n",
        "nltk.download('stopwords')"
      ],
      "execution_count": 0,
      "outputs": [
        {
          "output_type": "stream",
          "text": [
            "[nltk_data] Downloading package stopwords to /root/nltk_data...\n",
            "[nltk_data]   Unzipping corpora/stopwords.zip.\n"
          ],
          "name": "stdout"
        },
        {
          "output_type": "execute_result",
          "data": {
            "text/plain": [
              "True"
            ]
          },
          "metadata": {
            "tags": []
          },
          "execution_count": 74
        }
      ]
    },
    {
      "cell_type": "code",
      "metadata": {
        "id": "JavSMJ_6JB4Q",
        "colab_type": "code",
        "outputId": "5b962ae5-c709-4d4a-bcf9-b664400e4c2b",
        "colab": {
          "base_uri": "https://localhost:8080/",
          "height": 34
        }
      },
      "source": [
        "stopwords = nltk.corpus.stopwords.words('english')\n",
        "stopwords[:10]"
      ],
      "execution_count": 0,
      "outputs": [
        {
          "output_type": "execute_result",
          "data": {
            "text/plain": [
              "['i', 'me', 'my', 'myself', 'we', 'our', 'ours', 'ourselves', 'you', \"you're\"]"
            ]
          },
          "metadata": {
            "tags": []
          },
          "execution_count": 75
        }
      ]
    },
    {
      "cell_type": "markdown",
      "metadata": {
        "id": "kW62WqbgJSuz",
        "colab_type": "text"
      },
      "source": [
        "Now use the above list and remove the stopwords and show the top ten words!"
      ]
    },
    {
      "cell_type": "code",
      "metadata": {
        "id": "VyisQ1lRJJEA",
        "colab_type": "code",
        "colab": {}
      },
      "source": [
        "words = ____\n",
        "c = ________\n",
        "c.__________"
      ],
      "execution_count": 0,
      "outputs": []
    },
    {
      "cell_type": "code",
      "metadata": {
        "id": "yXjRJ3VqJXoM",
        "colab_type": "code",
        "colab": {}
      },
      "source": [
        ""
      ],
      "execution_count": 0,
      "outputs": []
    }
  ]
}